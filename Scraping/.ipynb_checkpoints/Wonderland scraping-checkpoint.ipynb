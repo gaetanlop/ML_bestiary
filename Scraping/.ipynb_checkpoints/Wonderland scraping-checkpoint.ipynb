{
 "cells": [
  {
   "cell_type": "markdown",
   "metadata": {},
   "source": [
    "# Imports"
   ]
  },
  {
   "cell_type": "code",
   "execution_count": 1,
   "metadata": {},
   "outputs": [],
   "source": [
    "from urllib.request import urlopen\n",
    "from bs4 import BeautifulSoup\n",
    "import re\n",
    "import urllib.request\n",
    "from PIL import Image "
   ]
  },
  {
   "cell_type": "markdown",
   "metadata": {},
   "source": [
    "# Scrapping"
   ]
  },
  {
   "cell_type": "code",
   "execution_count": 2,
   "metadata": {},
   "outputs": [],
   "source": [
    "# function to download images based on their url\n",
    "def download_png(url,file_path,file_name):\n",
    "    full_path= file_path+file_name+'.png'\n",
    "    # download the image from the url to the full_path\n",
    "    urllib.request.urlretrieve(url,full_path)"
   ]
  },
  {
   "cell_type": "code",
   "execution_count": 3,
   "metadata": {},
   "outputs": [
    {
     "name": "stdout",
     "output_type": "stream",
     "text": [
      "Page 1 done\n",
      "Page 2 done\n",
      "Page 3 done\n",
      "Page 4 done\n",
      "Page 5 done\n",
      "Page 6 done\n",
      "Page 7 done\n",
      "Page 8 done\n",
      "Page 9 done\n",
      "Page 10 done\n",
      "Page 11 done\n",
      "Page 12 done\n",
      "Page 13 done\n",
      "Page 14 done\n",
      "Page 15 done\n",
      "Page 16 done\n",
      "Page 17 done\n",
      "Page 18 done\n",
      "Page 19 done\n",
      "Page 20 done\n",
      "Page 21 done\n",
      "Page 22 done\n",
      "Page 23 done\n",
      "Page 24 done\n"
     ]
    }
   ],
   "source": [
    "# function to \n",
    "i=0\n",
    "for page in range(1,25):\n",
    "    # open the url\n",
    "    html = urlopen(f'http://wlodb.com/monsters?page={page}')\n",
    "    bs = BeautifulSoup(html, 'html.parser')\n",
    "    # find all img elements where .png in their 'src'\n",
    "    images = bs.find_all('img', {'src':re.compile('.gif')})\n",
    "    \n",
    "    for img in images:\n",
    "        try:\n",
    "            download_png(f\"http://wlodb.com/images/monsters/{img['src'].split('/')[-1]}\",'wonderland/',f'wonderland_{i}')\n",
    "            i+=1\n",
    "        except:\n",
    "            pass\n",
    "        \n",
    "    print(f'Page {page} done')\n"
   ]
  },
  {
   "cell_type": "code",
   "execution_count": null,
   "metadata": {},
   "outputs": [],
   "source": []
  }
 ],
 "metadata": {
  "kernelspec": {
   "display_name": "Python 3",
   "language": "python",
   "name": "python3"
  },
  "language_info": {
   "codemirror_mode": {
    "name": "ipython",
    "version": 3
   },
   "file_extension": ".py",
   "mimetype": "text/x-python",
   "name": "python",
   "nbconvert_exporter": "python",
   "pygments_lexer": "ipython3",
   "version": "3.7.6"
  }
 },
 "nbformat": 4,
 "nbformat_minor": 4
}
