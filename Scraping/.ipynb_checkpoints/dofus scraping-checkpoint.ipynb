{
 "cells": [
  {
   "cell_type": "code",
   "execution_count": 1,
   "metadata": {},
   "outputs": [],
   "source": [
    "from urllib.request import urlopen\n",
    "from bs4 import BeautifulSoup\n",
    "import re\n",
    "import urllib.request\n",
    "from PIL import Image "
   ]
  },
  {
   "cell_type": "code",
   "execution_count": 2,
   "metadata": {},
   "outputs": [],
   "source": [
    "import urllib.request\n",
    "page = urllib.request.urlopen('https://fr.dofus.dofapi.fr/monsters')\n",
    "scrap=page.read()                              "
   ]
  },
  {
   "cell_type": "code",
   "execution_count": 3,
   "metadata": {},
   "outputs": [],
   "source": [
    "scrap=scrap.decode('UTF-8')"
   ]
  },
  {
   "cell_type": "code",
   "execution_count": 4,
   "metadata": {},
   "outputs": [],
   "source": [
    "import json\n",
    "scrap=json.loads(scrap)"
   ]
  },
  {
   "cell_type": "code",
   "execution_count": 5,
   "metadata": {},
   "outputs": [],
   "source": [
    "img_urls=[]\n",
    "for dict in scrap:\n",
    "    img_urls.append(dict.get(\"imgUrl\"))"
   ]
  },
  {
   "cell_type": "code",
   "execution_count": 6,
   "metadata": {},
   "outputs": [
    {
     "data": {
      "text/plain": [
       "1818"
      ]
     },
     "execution_count": 6,
     "metadata": {},
     "output_type": "execute_result"
    }
   ],
   "source": [
    "len(img_urls)"
   ]
  },
  {
   "cell_type": "code",
   "execution_count": 7,
   "metadata": {},
   "outputs": [
    {
     "data": {
      "text/plain": [
       "'https://s.ankama.com/www/static.ankama.com/dofus/www/game/monsters/200/57.png'"
      ]
     },
     "execution_count": 7,
     "metadata": {},
     "output_type": "execute_result"
    }
   ],
   "source": [
    "img_urls[10]"
   ]
  },
  {
   "cell_type": "code",
   "execution_count": 8,
   "metadata": {},
   "outputs": [
    {
     "name": "stdout",
     "output_type": "stream",
     "text": [
      "https://s.ankama.com/www/static.ankama.com/dofus/www/game/monsters/200/31.png\n",
      "https://s.ankama.com/www/static.ankama.com/dofus/www/game/monsters/200/34.png\n",
      "https://s.ankama.com/www/static.ankama.com/dofus/www/game/monsters/200/46.png\n",
      "https://s.ankama.com/www/static.ankama.com/dofus/www/game/monsters/200/47.png\n",
      "https://s.ankama.com/www/static.ankama.com/dofus/www/game/monsters/200/48.png\n",
      "https://s.ankama.com/www/static.ankama.com/dofus/www/game/monsters/200/52.png\n",
      "https://s.ankama.com/www/static.ankama.com/dofus/www/game/monsters/200/53.png\n",
      "https://s.ankama.com/www/static.ankama.com/dofus/www/game/monsters/200/54.png\n",
      "https://s.ankama.com/www/static.ankama.com/dofus/www/game/monsters/200/55.png\n",
      "https://s.ankama.com/www/static.ankama.com/dofus/www/game/monsters/200/56.png\n"
     ]
    }
   ],
   "source": [
    "for img in img_urls[:10]:\n",
    "    print(img)"
   ]
  },
  {
   "cell_type": "markdown",
   "metadata": {},
   "source": [
    "# Download the images based on their urls"
   ]
  },
  {
   "cell_type": "code",
   "execution_count": 9,
   "metadata": {},
   "outputs": [],
   "source": [
    "# function to download images based on their url\n",
    "def download_png(url,file_path,file_name):\n",
    "    full_path= file_path+file_name+'.png'\n",
    "    # download the image from the url to the full_path\n",
    "    urllib.request.urlretrieve(url,full_path)"
   ]
  },
  {
   "cell_type": "code",
   "execution_count": 12,
   "metadata": {},
   "outputs": [
    {
     "name": "stdout",
     "output_type": "stream",
     "text": [
      "4\n",
      "4\n",
      "4\n",
      "4\n",
      "4\n",
      "4\n",
      "4\n",
      "4\n",
      "4\n",
      "4\n"
     ]
    }
   ],
   "source": [
    "i=0\n",
    "for img in img_urls[:10]:\n",
    "    try:\n",
    "        print(4)\n",
    "        download_png(img,'dofus/',f'dofus_{i}')\n",
    "        i+=1\n",
    "        print(i)\n",
    "    except:\n",
    "        pass"
   ]
  },
  {
   "cell_type": "markdown",
   "metadata": {},
   "source": [
    "# Checking images downloaded"
   ]
  },
  {
   "cell_type": "code",
   "execution_count": null,
   "metadata": {},
   "outputs": [],
   "source": [
    "# Opening one of the images\n",
    "im = Image.open(\"dofus/dofus_2.png\")    \n",
    "# show image \n",
    "im.show() \n",
    "# check the size\n",
    "print(im.size)"
   ]
  },
  {
   "cell_type": "code",
   "execution_count": null,
   "metadata": {},
   "outputs": [],
   "source": []
  }
 ],
 "metadata": {
  "kernelspec": {
   "display_name": "Python 3",
   "language": "python",
   "name": "python3"
  },
  "language_info": {
   "codemirror_mode": {
    "name": "ipython",
    "version": 3
   },
   "file_extension": ".py",
   "mimetype": "text/x-python",
   "name": "python",
   "nbconvert_exporter": "python",
   "pygments_lexer": "ipython3",
   "version": "3.7.6"
  }
 },
 "nbformat": 4,
 "nbformat_minor": 4
}
