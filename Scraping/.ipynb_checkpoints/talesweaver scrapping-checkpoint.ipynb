{
 "cells": [
  {
   "cell_type": "markdown",
   "metadata": {},
   "source": [
    "# Imports"
   ]
  },
  {
   "cell_type": "code",
   "execution_count": 1,
   "metadata": {},
   "outputs": [],
   "source": [
    "from urllib.request import urlopen\n",
    "from bs4 import BeautifulSoup\n",
    "import re\n",
    "import urllib.request\n",
    "from PIL import Image "
   ]
  },
  {
   "cell_type": "markdown",
   "metadata": {},
   "source": [
    "# Scrapping"
   ]
  },
  {
   "cell_type": "code",
   "execution_count": 2,
   "metadata": {},
   "outputs": [],
   "source": [
    "# function to download images based on their url\n",
    "def download_png(url,file_path,file_name):\n",
    "    full_path= file_path+file_name+'.png'\n",
    "    # download the image from the url to the full_path\n",
    "    urllib.request.urlretrieve(url,full_path)"
   ]
  },
  {
   "cell_type": "code",
   "execution_count": 3,
   "metadata": {},
   "outputs": [
    {
     "name": "stdout",
     "output_type": "stream",
     "text": [
      "59\n",
      "Level_min 11 done\n",
      "26\n",
      "Level_min 21 done\n",
      "20\n",
      "Level_min 31 done\n",
      "33\n",
      "Level_min 41 done\n",
      "26\n",
      "Level_min 51 done\n",
      "15\n",
      "Level_min 61 done\n",
      "24\n",
      "Level_min 71 done\n",
      "20\n",
      "Level_min 81 done\n",
      "17\n",
      "Level_min 91 done\n",
      "15\n",
      "Level_min 101 done\n",
      "11\n",
      "Level_min 111 done\n",
      "18\n",
      "Level_min 121 done\n",
      "23\n",
      "Level_min 131 done\n",
      "14\n",
      "Level_min 141 done\n",
      "15\n",
      "Level_min 151 done\n",
      "1\n",
      "Level_min 161 done\n",
      "2\n",
      "Level_min 171 done\n",
      "2\n",
      "Level_min 181 done\n",
      "2\n",
      "Level_min 191 done\n",
      "9\n",
      "Level_min 201 done\n"
     ]
    }
   ],
   "source": [
    "# Scrap monsters then download them directly to the directory\n",
    "level_min=1\n",
    "i=0\n",
    "while level_min<200:\n",
    "    \n",
    "    level_max=level_min+9\n",
    "    \n",
    "    if level_min<10:\n",
    "        # open the url\n",
    "        html = urlopen(f'https://talesweaverfan.tripod.com/html/monsters_level00{level_min}to0{level_max}.htm')\n",
    "        bs = BeautifulSoup(html, 'html.parser')\n",
    "        # find all img elements where .png in their 'src'\n",
    "        images = bs.find_all('img', {'src':re.compile('.gif')})\n",
    "        \n",
    "    elif level_min<90:\n",
    "        # open the url\n",
    "        html = urlopen(f'https://talesweaverfan.tripod.com/html/monsters_level0{level_min}to0{level_max}.htm')\n",
    "        bs = BeautifulSoup(html, 'html.parser')\n",
    "        # find all img elements where .png in their 'src'\n",
    "        images = bs.find_all('img', {'src':re.compile('.gif')})\n",
    "        \n",
    "    elif level_min==91:\n",
    "        # open the url\n",
    "        html = urlopen(f'https://talesweaverfan.tripod.com/html/monsters_level0{level_min}to{level_max}.htm')\n",
    "        bs = BeautifulSoup(html, 'html.parser')\n",
    "        # find all img elements where .png in their 'src'\n",
    "        images = bs.find_all('img', {'src':re.compile('.gif')})\n",
    "        \n",
    "    \n",
    "    else:\n",
    "        # open the url\n",
    "        html = urlopen(f'https://talesweaverfan.tripod.com/html/monsters_level{level_min}to{level_max}.htm')\n",
    "        bs = BeautifulSoup(html, 'html.parser')\n",
    "        # find all img elements where .png in their 'src'\n",
    "        images = bs.find_all('img', {'src':re.compile('.gif')})\n",
    "        \n",
    "    \n",
    "    print(len(images))\n",
    "    for img in images:\n",
    "        try:\n",
    "            download_png(f\"https://talesweaverfan.tripod.com/pictures/{img['src'].split('/')[-1]}\",'talesweaver/',f'talesweaver_{i}')\n",
    "            i+=1\n",
    "        except:\n",
    "            pass\n",
    "            print('failed')\n",
    "        \n",
    "    level_min+=10\n",
    "        \n",
    "    print(f'Level_min {level_min} done')"
   ]
  },
  {
   "cell_type": "code",
   "execution_count": null,
   "metadata": {},
   "outputs": [],
   "source": []
  }
 ],
 "metadata": {
  "kernelspec": {
   "display_name": "Python 3",
   "language": "python",
   "name": "python3"
  },
  "language_info": {
   "codemirror_mode": {
    "name": "ipython",
    "version": 3
   },
   "file_extension": ".py",
   "mimetype": "text/x-python",
   "name": "python",
   "nbconvert_exporter": "python",
   "pygments_lexer": "ipython3",
   "version": "3.7.6"
  }
 },
 "nbformat": 4,
 "nbformat_minor": 4
}
