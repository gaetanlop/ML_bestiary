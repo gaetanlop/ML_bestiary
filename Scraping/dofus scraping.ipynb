{
 "cells": [
  {
   "cell_type": "code",
   "execution_count": 1,
   "metadata": {},
   "outputs": [],
   "source": [
    "from selenium.common.exceptions import NoSuchElementException, ElementClickInterceptedException\n",
    "from selenium import webdriver\n",
    "from selenium.webdriver.common.by import By\n",
    "from selenium.webdriver.support.ui import WebDriverWait\n",
    "from selenium.webdriver.support import expected_conditions as EC\n",
    "import urllib\n",
    "import time\n",
    "import shutil\n",
    "import requests"
   ]
  },
  {
   "cell_type": "code",
   "execution_count": 2,
   "metadata": {},
   "outputs": [],
   "source": [
    "def save_image_to_file(image, dirname, suffix):\n",
    "    with open('{dirname}/img_{suffix}.png'.format(dirname=dirname, suffix=suffix), 'wb') as out_file:\n",
    "        shutil.copyfileobj(image.raw, out_file)"
   ]
  },
  {
   "cell_type": "code",
   "execution_count": 11,
   "metadata": {},
   "outputs": [],
   "source": [
    "# Working\n",
    "\n",
    "url='https://www.dofus.com/fr/mmorpg/encyclopedie/monstres?page=1'\n",
    "options = webdriver.ChromeOptions()\n",
    "driver = webdriver.Chrome(executable_path=\"../../chromedriver.exe\", options=options)\n",
    "driver.set_window_size(1120, 1000)\n",
    "\n",
    "num=0\n",
    "\n",
    "for page in range(3,5):\n",
    "    \n",
    "    i=0\n",
    "    driver.get(f'https://www.dofus.com/fr/mmorpg/encyclopedie/monstres?page={page}')\n",
    "    \n",
    "    \n",
    "    for j in range(1,25):\n",
    "    \n",
    "        monsters=driver.find_elements_by_xpath('.//span[@class=\"ak-linker\"]')[i+1]\n",
    "\n",
    "        monsters.click()\n",
    "        try: \n",
    "            element=WebDriverWait(driver,10).until(EC.presence_of_element_located((By.CLASS_NAME, \"ak-panel-title\")))\n",
    "            img = driver.find_element_by_xpath('//img[@class=\"img-maxresponsive\"]')\n",
    "            src = img.get_attribute('src')\n",
    "            response = requests.get(src, stream=True)\n",
    "\n",
    "            save_image_to_file(response,'dofus',num)\n",
    "            i+=2\n",
    "            num+=1\n",
    "        except:\n",
    "            continue\n",
    "            \n",
    "        driver.back()\n",
    "        \n",
    "        \n",
    "            "
   ]
  },
  {
   "cell_type": "code",
   "execution_count": null,
   "metadata": {},
   "outputs": [],
   "source": []
  }
 ],
 "metadata": {
  "kernelspec": {
   "display_name": "Python 3",
   "language": "python",
   "name": "python3"
  },
  "language_info": {
   "codemirror_mode": {
    "name": "ipython",
    "version": 3
   },
   "file_extension": ".py",
   "mimetype": "text/x-python",
   "name": "python",
   "nbconvert_exporter": "python",
   "pygments_lexer": "ipython3",
   "version": "3.7.6"
  }
 },
 "nbformat": 4,
 "nbformat_minor": 4
}
