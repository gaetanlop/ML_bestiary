{
 "cells": [
  {
   "cell_type": "markdown",
   "metadata": {},
   "source": [
    "# Imports"
   ]
  },
  {
   "cell_type": "code",
   "execution_count": 13,
   "metadata": {},
   "outputs": [],
   "source": [
    "# https://strategywiki.org/wiki/MapleStory/Monsters/Level_1-10"
   ]
  },
  {
   "cell_type": "code",
   "execution_count": 2,
   "metadata": {},
   "outputs": [],
   "source": [
    "from urllib.request import urlopen\n",
    "from bs4 import BeautifulSoup\n",
    "import re\n",
    "import urllib.request\n",
    "from PIL import Image \n",
    "import shutil\n",
    "import requests"
   ]
  },
  {
   "cell_type": "markdown",
   "metadata": {},
   "source": [
    "# Get image urls"
   ]
  },
  {
   "cell_type": "code",
   "execution_count": 3,
   "metadata": {},
   "outputs": [],
   "source": [
    "def image_urls(adress):\n",
    "\n",
    "    html = urlopen(adress)\n",
    "    bs = BeautifulSoup(html, 'html.parser')\n",
    "    images = bs.find_all('img', {'alt':re.compile('.png')})\n",
    "    print(f'I found {len(images)} monsters in adresse')\n",
    "    return images"
   ]
  },
  {
   "cell_type": "markdown",
   "metadata": {},
   "source": [
    "# Download images"
   ]
  },
  {
   "cell_type": "code",
   "execution_count": 5,
   "metadata": {},
   "outputs": [],
   "source": [
    "def save_image_to_file(image, dirname, suffix):\n",
    "    with open('{dirname}/maple_{suffix}.png'.format(dirname=dirname, suffix=suffix), 'wb') as out_file:\n",
    "        shutil.copyfileobj(image.raw, out_file)"
   ]
  },
  {
   "cell_type": "markdown",
   "metadata": {},
   "source": [
    "# Scrapping"
   ]
  },
  {
   "cell_type": "code",
   "execution_count": 6,
   "metadata": {},
   "outputs": [
    {
     "name": "stdout",
     "output_type": "stream",
     "text": [
      "I found 60 monsters in adresse\n",
      "1 and 10\n",
      "I found 68 monsters in adresse\n",
      "11 and 20\n",
      "I found 67 monsters in adresse\n",
      "21 and 30\n",
      "I found 25 monsters in adresse\n",
      "31 and 40\n",
      "I found 39 monsters in adresse\n",
      "41 and 50\n",
      "I found 18 monsters in adresse\n",
      "51 and 60\n",
      "I found 50 monsters in adresse\n",
      "61 and 70\n",
      "I found 43 monsters in adresse\n",
      "71 and 80\n",
      "I found 41 monsters in adresse\n",
      "81 and 90\n",
      "I found 75 monsters in adresse\n",
      "91 and 100\n",
      "I found 86 monsters in adresse\n",
      "101 and 110\n",
      "I found 84 monsters in adresse\n",
      "111 and 120\n",
      "I found 64 monsters in adresse\n",
      "121 and 130\n",
      "I found 115 monsters in adresse\n",
      "131 and 140\n",
      "I found 94 monsters in adresse\n",
      "141 and 150\n",
      "I found 78 monsters in adresse\n",
      "151 and 160\n",
      "I found 68 monsters in adresse\n",
      "161 and 170\n",
      "I found 89 monsters in adresse\n",
      "171 and 180\n",
      "I found 111 monsters in adresse\n",
      "181 and 190\n",
      "I found 37 monsters in adresse\n",
      "191 and 200\n",
      "I found 52 monsters in adresse\n",
      "201 and 210\n",
      "I found 63 monsters in adresse\n",
      "211 and 220\n",
      "I found 24 monsters in adresse\n",
      "221 and 230\n",
      "I found 28 monsters in adresse\n",
      "231 and 240\n",
      "I found 34 monsters in adresse\n",
      "241 and 250\n"
     ]
    }
   ],
   "source": [
    "start=1\n",
    "end=10\n",
    "i=0\n",
    "\n",
    "while end<251:\n",
    "    adress=f'https://strategywiki.org/wiki/MapleStory/Monsters/Level_{start}-{end}'\n",
    "    images=image_urls(adress)\n",
    "    print(f'{start} and {end}')\n",
    "    start+=10\n",
    "    end+=10\n",
    "\n",
    "    for img in images:\n",
    "        try:\n",
    "            response = requests.get(f\"https:{img['src']}\", stream=True)\n",
    "            save_image_to_file(response,'maplestory/',i)\n",
    "            i+=1\n",
    "        except:\n",
    "            print('failed')\n",
    "            continue\n",
    "    "
   ]
  },
  {
   "cell_type": "code",
   "execution_count": 12,
   "metadata": {},
   "outputs": [
    {
     "data": {
      "text/plain": [
       "'summer-4823612_960_720.jpg'"
      ]
     },
     "execution_count": 12,
     "metadata": {},
     "output_type": "execute_result"
    }
   ],
   "source": [
    "image_url = \"https://cdn.pixabay.com/photo/2020/02/06/09/39/summer-4823612_960_720.jpg\"\n",
    "filename = image_url.split(\"/\")[-1]\n",
    "filename"
   ]
  },
  {
   "cell_type": "code",
   "execution_count": null,
   "metadata": {},
   "outputs": [],
   "source": []
  }
 ],
 "metadata": {
  "kernelspec": {
   "display_name": "Python 3",
   "language": "python",
   "name": "python3"
  },
  "language_info": {
   "codemirror_mode": {
    "name": "ipython",
    "version": 3
   },
   "file_extension": ".py",
   "mimetype": "text/x-python",
   "name": "python",
   "nbconvert_exporter": "python",
   "pygments_lexer": "ipython3",
   "version": "3.7.6"
  }
 },
 "nbformat": 4,
 "nbformat_minor": 4
}
