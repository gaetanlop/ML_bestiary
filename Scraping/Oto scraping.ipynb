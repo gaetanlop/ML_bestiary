{
 "cells": [
  {
   "cell_type": "code",
   "execution_count": 1,
   "metadata": {},
   "outputs": [],
   "source": [
    "from selenium.common.exceptions import NoSuchElementException, ElementClickInterceptedException\n",
    "from selenium import webdriver\n",
    "from selenium.webdriver.common.by import By\n",
    "from selenium.webdriver.support.ui import WebDriverWait\n",
    "from selenium.webdriver.support import expected_conditions as EC\n",
    "import urllib\n",
    "import time\n",
    "import shutil\n",
    "import requests"
   ]
  },
  {
   "cell_type": "code",
   "execution_count": 2,
   "metadata": {},
   "outputs": [],
   "source": [
    "def save_image_to_file(image, dirname, suffix):\n",
    "    with open('{dirname}/oto_{suffix}.png'.format(dirname=dirname, suffix=suffix), 'wb') as out_file:\n",
    "        shutil.copyfileobj(image.raw, out_file)"
   ]
  },
  {
   "cell_type": "code",
   "execution_count": 8,
   "metadata": {},
   "outputs": [
    {
     "name": "stdout",
     "output_type": "stream",
     "text": [
      "['https://oto.fandom.com/wiki/Allionette', 'https://oto.fandom.com/wiki/Ancient_Bijou_Golem', 'https://oto.fandom.com/wiki/Ancient_Bio_Junk', 'https://oto.fandom.com/wiki/Ancient_Bone_Magician', 'https://oto.fandom.com/wiki/Ancient_Charybdis', 'https://oto.fandom.com/wiki/Ancient_Dragon', 'https://oto.fandom.com/wiki/Ancient_Fire_Hand', 'https://oto.fandom.com/wiki/Ancient_Gorgon', 'https://oto.fandom.com/wiki/Ancient_Guard_Ian', 'https://oto.fandom.com/wiki/Ancient_Hecate', 'https://oto.fandom.com/wiki/Ancient_Ixion', 'https://oto.fandom.com/wiki/Ancient_Pirate', 'https://oto.fandom.com/wiki/Ancient_Plug_Bat', 'https://oto.fandom.com/wiki/Ancient_Scylla', 'https://oto.fandom.com/wiki/Ancient_Sisyphus', 'https://oto.fandom.com/wiki/Ancient_Tantalus', 'https://oto.fandom.com/wiki/Ancient_Tentacle', 'https://oto.fandom.com/wiki/Aposis', 'https://oto.fandom.com/wiki/Awakened_Chibcha', 'https://oto.fandom.com/wiki/Awakened_Chimu', 'https://oto.fandom.com/wiki/Awakened_Guiana', 'https://oto.fandom.com/wiki/Awakened_Lima', 'https://oto.fandom.com/wiki/Awakened_Naranjo', 'https://oto.fandom.com/wiki/Awoken_Mimic', 'https://oto.fandom.com/wiki/Bad_Fury', 'https://oto.fandom.com/wiki/Blue_Blue_Penguin', 'https://oto.fandom.com/wiki/Blue_Blue_Penguin_120', 'https://oto.fandom.com/wiki/Blue_Blue_Penguin_160', 'https://oto.fandom.com/wiki/Blue_Blue_Penguin_200', 'https://oto.fandom.com/wiki/Blue_Blue_Penguin_240', 'https://oto.fandom.com/wiki/Blue_Blue_Penguin_280', 'https://oto.fandom.com/wiki/Blue_Blue_Penguin_360', 'https://oto.fandom.com/wiki/Blue_Blue_Penguin_40', 'https://oto.fandom.com/wiki/Blue_Blue_Penguin_440', 'https://oto.fandom.com/wiki/Blue_Blue_Penguin_80', 'https://oto.fandom.com/wiki/Blue_Penguin', 'https://oto.fandom.com/wiki/Boss_Monsters', 'https://oto.fandom.com/wiki/Broken_Scylla', 'https://oto.fandom.com/wiki/Captain', 'https://oto.fandom.com/wiki/Captain_Skull', 'https://oto.fandom.com/wiki/Cave_Uparupa', 'https://oto.fandom.com/wiki/Chaos_Bio_Junk', 'https://oto.fandom.com/wiki/Chaos_Cone_Stone', 'https://oto.fandom.com/wiki/Chronos', 'https://oto.fandom.com/wiki/Clione', 'https://oto.fandom.com/wiki/Coolem', 'https://oto.fandom.com/wiki/Cora_Merrymaker', 'https://oto.fandom.com/wiki/Cora_Reveller', 'https://oto.fandom.com/wiki/Corrupt_Bio_Junk', 'https://oto.fandom.com/wiki/Corrupt_Guardian', 'https://oto.fandom.com/wiki/Count_Blood', 'https://oto.fandom.com/wiki/Cucool_Merrymaker', 'https://oto.fandom.com/wiki/Cucool_Reveller', 'https://oto.fandom.com/wiki/Don_Cavalier', 'https://oto.fandom.com/wiki/Doppleganger', 'https://oto.fandom.com/wiki/Doppleganger_Shadow', 'https://oto.fandom.com/wiki/Draco_Knight', 'https://oto.fandom.com/wiki/Earth_Spirit', 'https://oto.fandom.com/wiki/Ed', 'https://oto.fandom.com/wiki/Electricity_Spirit', 'https://oto.fandom.com/wiki/Evil_Don_Giuvanni', 'https://oto.fandom.com/wiki/Evil_of_Darkness_-_ED', 'https://oto.fandom.com/wiki/Fixed_Turret', 'https://oto.fandom.com/wiki/Flashire_Snake', 'https://oto.fandom.com/wiki/Guard_Ian', 'https://oto.fandom.com/wiki/Guard_Stone_Soldier', 'https://oto.fandom.com/wiki/Harkon_Spirit', 'https://oto.fandom.com/wiki/Intermediate_Spirit_of_Earth', 'https://oto.fandom.com/wiki/Intermediate_Spirit_of_Wind', 'https://oto.fandom.com/wiki/Isis', 'https://oto.fandom.com/wiki/Ixion', 'https://oto.fandom.com/wiki/Janus', 'https://oto.fandom.com/wiki/Jellyfish_Merrymaker', 'https://oto.fandom.com/wiki/Jellyfish_Reveller', 'https://oto.fandom.com/wiki/Kaboom', 'https://oto.fandom.com/wiki/Koiosu', 'https://oto.fandom.com/wiki/Lava_Horse', 'https://oto.fandom.com/wiki/Lieutenant', 'https://oto.fandom.com/wiki/Light_Spirit', 'https://oto.fandom.com/wiki/Magma_Salamander', 'https://oto.fandom.com/wiki/Maid_Lydia', 'https://oto.fandom.com/wiki/Master_Mong', 'https://oto.fandom.com/wiki/Mimic', 'https://oto.fandom.com/wiki/Moa_Stone_Merrymaker', 'https://oto.fandom.com/wiki/Moa_Stone_Reveller', 'https://oto.fandom.com/wiki/Mushumushu', 'https://oto.fandom.com/wiki/Naranjo', 'https://oto.fandom.com/wiki/Nephthys', 'https://oto.fandom.com/wiki/Nereides', 'https://oto.fandom.com/wiki/Nightmare', 'https://oto.fandom.com/wiki/O%27Crown_Merrymaker', 'https://oto.fandom.com/wiki/O%27Crown_Reveller', 'https://oto.fandom.com/wiki/Outraged_Requiem', 'https://oto.fandom.com/wiki/Persona_Merrymaker', 'https://oto.fandom.com/wiki/Persona_Reveller', 'https://oto.fandom.com/wiki/Pharaoh%27s_Mimic', 'https://oto.fandom.com/wiki/Pink_Pink_Penguin', 'https://oto.fandom.com/wiki/Pink_Pink_Penguin_120', 'https://oto.fandom.com/wiki/Pink_Pink_Penguin_160', 'https://oto.fandom.com/wiki/Pink_Pink_Penguin_200', 'https://oto.fandom.com/wiki/Pink_Pink_Penguin_240', 'https://oto.fandom.com/wiki/Pink_Pink_Penguin_280', 'https://oto.fandom.com/wiki/Pink_Pink_Penguin_360', 'https://oto.fandom.com/wiki/Pink_Pink_Penguin_40', 'https://oto.fandom.com/wiki/Pink_Pink_Penguin_440', 'https://oto.fandom.com/wiki/Pink_Pink_Penguin_80', 'https://oto.fandom.com/wiki/Pirate_King_Karan', 'https://oto.fandom.com/wiki/Punisher_Aposis', 'https://oto.fandom.com/wiki/Queen_Odinea', 'https://oto.fandom.com/wiki/Raver_Skeleton_Merrymaker', 'https://oto.fandom.com/wiki/Raver_Skeleton_Reveller', 'https://oto.fandom.com/wiki/Real_Golden_Mole', 'https://oto.fandom.com/wiki/Red_Flame_Monster', 'https://oto.fandom.com/wiki/Red_Flame_Spirit', 'https://oto.fandom.com/wiki/Requiem_Grudge', 'https://oto.fandom.com/wiki/Requiem_Spirit', 'https://oto.fandom.com/wiki/Rosaspina', 'https://oto.fandom.com/wiki/Rude_Funky_Orc', 'https://oto.fandom.com/wiki/Sand_Demon', 'https://oto.fandom.com/wiki/Sand_Demon_Merrymaker', 'https://oto.fandom.com/wiki/Sand_Demon_Reveller', 'https://oto.fandom.com/wiki/Scarab', 'https://oto.fandom.com/wiki/Scylla_(Control_Room)', 'https://oto.fandom.com/wiki/Sea_Elephant', 'https://oto.fandom.com/wiki/Sea_Scorpion', 'https://oto.fandom.com/wiki/Sealed_Fire_Golem', 'https://oto.fandom.com/wiki/Sealed_Fire_Hand', 'https://oto.fandom.com/wiki/Sealed_Fire_Moth', 'https://oto.fandom.com/wiki/Sealed_Red_Salamander', 'https://oto.fandom.com/wiki/Sergeant', 'https://oto.fandom.com/wiki/Seth', 'https://oto.fandom.com/wiki/Shadow_Clione', 'https://oto.fandom.com/wiki/Shell_Trap', 'https://oto.fandom.com/wiki/Sisyphus', 'https://oto.fandom.com/wiki/Sludge_Merrymaker', 'https://oto.fandom.com/wiki/Sludge_Reveller', 'https://oto.fandom.com/wiki/Slug_G', 'https://oto.fandom.com/wiki/Snow_Lady_Merrymaker', 'https://oto.fandom.com/wiki/Snow_Lady_Reveller', 'https://oto.fandom.com/wiki/Snow_Pine_Tree', 'https://oto.fandom.com/wiki/Soki', 'https://oto.fandom.com/wiki/Soul_Taker_1', 'https://oto.fandom.com/wiki/Soul_Taker_2', 'https://oto.fandom.com/wiki/Spicy_Dragon', 'https://oto.fandom.com/wiki/Spirit_of_Misfortune', 'https://oto.fandom.com/wiki/Steel_Charybdis', 'https://oto.fandom.com/wiki/Steel_Fire_Hand', 'https://oto.fandom.com/wiki/Steel_Gorgon', 'https://oto.fandom.com/wiki/Steel_Hecate', 'https://oto.fandom.com/wiki/Steel_Scylla', 'https://oto.fandom.com/wiki/Stoor_Worm', 'https://oto.fandom.com/wiki/Tantalus', 'https://oto.fandom.com/wiki/Tenter_Lion', 'https://oto.fandom.com/wiki/Tombeth', 'https://oto.fandom.com/wiki/Tombeth%27s_Soul', 'https://oto.fandom.com/wiki/Torobbie', 'https://oto.fandom.com/wiki/Tottochi', 'https://oto.fandom.com/wiki/Tribunal_Addax', 'https://oto.fandom.com/wiki/Tribunal_Crow', 'https://oto.fandom.com/wiki/Tribunal_Fire_Moth', 'https://oto.fandom.com/wiki/Tribunal_Freyja', 'https://oto.fandom.com/wiki/Tribunal_Hell_Knight', 'https://oto.fandom.com/wiki/Tribunal_Koom', 'https://oto.fandom.com/wiki/Tribunal_Leviathan', 'https://oto.fandom.com/wiki/Tribunal_Madam_Chiffon', 'https://oto.fandom.com/wiki/Tribunal_Mermaid', 'https://oto.fandom.com/wiki/Tribunal_Merman_Aqu', 'https://oto.fandom.com/wiki/Tribunal_Seth', 'https://oto.fandom.com/wiki/Tribunal_Shadow', 'https://oto.fandom.com/wiki/Tribunal_Stoor_Worm', 'https://oto.fandom.com/wiki/Tribunal_Tink', 'https://oto.fandom.com/wiki/Tribunal_Tooth_Flower', 'https://oto.fandom.com/wiki/Tribunal_Yeti', 'https://oto.fandom.com/wiki/True_Ancient_Fire_Hand', 'https://oto.fandom.com/wiki/True_Kronos', 'https://oto.fandom.com/wiki/Tutankhamen', 'https://oto.fandom.com/wiki/Water_Spirit', 'https://oto.fandom.com/wiki/Wind_Spirit', 'https://oto.fandom.com/wiki/Zeus%27s_Bad_Fury', 'https://oto.fandom.com/wiki/Zeus%27s_Little_Cora', 'https://oto.fandom.com/wiki/Zeus%27s_Torobbie']\n",
      "181\n"
     ]
    },
    {
     "name": "stdout",
     "output_type": "stream",
     "text": [
      "Failed\n",
      "Failed\n",
      "Failed\n",
      "Failed\n",
      "Failed\n",
      "Failed\n",
      "Failed\n",
      "Failed\n",
      "Failed\n",
      "Failed\n",
      "Failed\n",
      "Failed\n",
      "Failed\n",
      "Failed\n",
      "Failed\n",
      "Failed\n"
     ]
    }
   ],
   "source": [
    "url='https://oto.fandom.com/wiki/Category:Monster'\n",
    "options = webdriver.ChromeOptions()\n",
    "driver = webdriver.Chrome(executable_path=\"../../chromedriver.exe\", options=options)\n",
    "driver.set_window_size(1120, 1000)\n",
    "\n",
    "driver.get(url)\n",
    "driver.implicitly_wait(10)\n",
    "\n",
    "urls=[]\n",
    "try : \n",
    "    cookies = WebDriverWait(driver, 15).until(\n",
    "    EC.presence_of_element_located((By.XPATH, \"//div[@data-tracking-opt-in-accept='true']\"))\n",
    "    )\n",
    "    cookies.click()\n",
    "except: \n",
    "    print(\"error_cookies_start\")\n",
    "\n",
    "\n",
    "element=WebDriverWait(driver,10).until(EC.presence_of_element_located((By.CLASS_NAME,\"category-page__member-link\")))\n",
    "\n",
    "monsters=driver.find_elements_by_class_name(\"category-page__member-link\")\n",
    "\n",
    "nb=len(monsters)\n",
    "    \n",
    "for i in range(1,nb):\n",
    "\n",
    "    href=monsters[i].get_attribute(\"href\")\n",
    "    urls.append(href)\n",
    "    \n",
    "print(urls)\n",
    "\n",
    "print(len(urls))\n",
    "\n",
    "num=0\n",
    "\n",
    "for url in urls:\n",
    "    try:\n",
    "        driver.get(url)\n",
    "        img = WebDriverWait(driver, 15).until(\n",
    "        EC.presence_of_element_located((By.XPATH, \"//img[starts-with (@data-image-name,'Monster')]\"))\n",
    "        )\n",
    "\n",
    "        img=driver.find_element_by_xpath(\"//img[starts-with (@data-image-name,'Monster')]\")\n",
    "        src = img.get_attribute('data-src')\n",
    "        response = requests.get(src, stream=True)\n",
    "\n",
    "        save_image_to_file(response,'oto',num)\n",
    "        num+=1\n",
    "    \n",
    "    except:\n",
    "        print('Failed')\n",
    "        continue\n",
    "\n"
   ]
  },
  {
   "cell_type": "code",
   "execution_count": null,
   "metadata": {},
   "outputs": [],
   "source": []
  }
 ],
 "metadata": {
  "kernelspec": {
   "display_name": "Python 3",
   "language": "python",
   "name": "python3"
  },
  "language_info": {
   "codemirror_mode": {
    "name": "ipython",
    "version": 3
   },
   "file_extension": ".py",
   "mimetype": "text/x-python",
   "name": "python",
   "nbconvert_exporter": "python",
   "pygments_lexer": "ipython3",
   "version": "3.7.6"
  }
 },
 "nbformat": 4,
 "nbformat_minor": 4
}
